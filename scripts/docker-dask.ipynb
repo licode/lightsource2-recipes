{
 "cells": [
  {
   "cell_type": "code",
   "execution_count": 1,
   "metadata": {},
   "outputs": [],
   "source": [
    "%run -i nsls2_tag_build.py"
   ]
  },
  {
   "cell_type": "code",
   "execution_count": 2,
   "metadata": {},
   "outputs": [],
   "source": [
    "pkg = 'nslsii'"
   ]
  },
  {
   "cell_type": "code",
   "execution_count": 3,
   "metadata": {},
   "outputs": [
    {
     "data": {
      "text/plain": [
       "\u001b[0;31mSignature:\u001b[0m \u001b[0mrun_container\u001b[0m\u001b[0;34m(\u001b[0m\u001b[0;34m*\u001b[0m\u001b[0;34m,\u001b[0m \u001b[0mpkg_name\u001b[0m\u001b[0;34m,\u001b[0m \u001b[0mpythons\u001b[0m\u001b[0;34m=\u001b[0m\u001b[0;34m(\u001b[0m\u001b[0;34m'3.5'\u001b[0m\u001b[0;34m,\u001b[0m \u001b[0;34m'3.6'\u001b[0m\u001b[0;34m,\u001b[0m \u001b[0;34m'3.7'\u001b[0m\u001b[0;34m)\u001b[0m\u001b[0;34m,\u001b[0m \u001b[0mnumpy_versions\u001b[0m\u001b[0;34m=\u001b[0m\u001b[0;34m(\u001b[0m\u001b[0;34m'1.14'\u001b[0m\u001b[0;34m,\u001b[0m\u001b[0;34m)\u001b[0m\u001b[0;34m)\u001b[0m\u001b[0;34m\u001b[0m\u001b[0m\n",
       "\u001b[0;31mDocstring:\u001b[0m\n",
       "Run a Docker container with supplied commands.\n",
       "\n",
       "Parameters\n",
       "----------\n",
       "pkg_name : str\n",
       "    the name of a package to build\n",
       "pythons : tuple, optional\n",
       "    versions of Python to build the package for\n",
       "numpy_versions : tuple, optional\n",
       "    versions of NumPy to build the package for\n",
       "\u001b[0;31mFile:\u001b[0m      ~/src/mrakitin/DAMA/lightsource2-recipes/scripts/nsls2_tag_build.py\n",
       "\u001b[0;31mType:\u001b[0m      function\n"
      ]
     },
     "metadata": {},
     "output_type": "display_data"
    }
   ],
   "source": [
    "run_container?"
   ]
  },
  {
   "cell_type": "markdown",
   "metadata": {},
   "source": [
    "# Run directly synchronously"
   ]
  },
  {
   "cell_type": "code",
   "execution_count": null,
   "metadata": {},
   "outputs": [],
   "source": [
    "out = run_container(pkg_name=pkg)"
   ]
  },
  {
   "cell_type": "code",
   "execution_count": null,
   "metadata": {},
   "outputs": [],
   "source": [
    "print(out)"
   ]
  },
  {
   "cell_type": "markdown",
   "metadata": {},
   "source": [
    "# Run asynchronously with Dask!"
   ]
  },
  {
   "cell_type": "code",
   "execution_count": 2,
   "metadata": {},
   "outputs": [],
   "source": [
    "from dask.distributed import Client, LocalCluster"
   ]
  },
  {
   "cell_type": "code",
   "execution_count": 3,
   "metadata": {},
   "outputs": [],
   "source": [
    "cluster = LocalCluster(n_workers=8)"
   ]
  },
  {
   "cell_type": "code",
   "execution_count": 4,
   "metadata": {},
   "outputs": [
    {
     "data": {
      "application/vnd.jupyter.widget-view+json": {
       "model_id": "c54b47e5153a4cf389680bb52263803b",
       "version_major": 2,
       "version_minor": 0
      },
      "text/plain": [
       "VBox(children=(HTML(value='<h2>LocalCluster</h2>'), HBox(children=(HTML(value='\\n<div>\\n  <style scoped>\\n    …"
      ]
     },
     "metadata": {},
     "output_type": "display_data"
    }
   ],
   "source": [
    "cluster"
   ]
  },
  {
   "cell_type": "code",
   "execution_count": 5,
   "metadata": {},
   "outputs": [],
   "source": [
    "client = Client(cluster)"
   ]
  },
  {
   "cell_type": "code",
   "execution_count": 6,
   "metadata": {},
   "outputs": [
    {
     "data": {
      "text/html": [
       "<table style=\"border: 2px solid white;\">\n",
       "<tr>\n",
       "<td style=\"vertical-align: top; border: 0px solid white\">\n",
       "<h3>Client</h3>\n",
       "<ul>\n",
       "  <li><b>Scheduler: </b>tcp://127.0.0.1:58551\n",
       "  <li><b>Dashboard: </b><a href='http://127.0.0.1:8787/status' target='_blank'>http://127.0.0.1:8787/status</a>\n",
       "</ul>\n",
       "</td>\n",
       "<td style=\"vertical-align: top; border: 0px solid white\">\n",
       "<h3>Cluster</h3>\n",
       "<ul>\n",
       "  <li><b>Workers: </b>8</li>\n",
       "  <li><b>Cores: </b>8</li>\n",
       "  <li><b>Memory: </b>34.36 GB</li>\n",
       "</ul>\n",
       "</td>\n",
       "</tr>\n",
       "</table>"
      ],
      "text/plain": [
       "<Client: scheduler='tcp://127.0.0.1:58551' processes=8 cores=8>"
      ]
     },
     "execution_count": 6,
     "metadata": {},
     "output_type": "execute_result"
    }
   ],
   "source": [
    "client"
   ]
  },
  {
   "cell_type": "code",
   "execution_count": 7,
   "metadata": {},
   "outputs": [],
   "source": [
    "import datetime\n",
    "def new_ts():\n",
    "    start_time = datetime.datetime.now()\n",
    "    return datetime.datetime.strftime(start_time, '%Y%m%d%H%M%S')"
   ]
  },
  {
   "cell_type": "code",
   "execution_count": 10,
   "metadata": {},
   "outputs": [],
   "source": [
    "# packages = ['bluesky', 'databroker', 'ophyd']"
   ]
  },
  {
   "cell_type": "code",
   "execution_count": 11,
   "metadata": {},
   "outputs": [],
   "source": [
    "packages = ['nslsii']"
   ]
  },
  {
   "cell_type": "code",
   "execution_count": 8,
   "metadata": {},
   "outputs": [],
   "source": [
    "packages = ['analysis', 'collection']"
   ]
  },
  {
   "cell_type": "code",
   "execution_count": 12,
   "metadata": {},
   "outputs": [],
   "source": [
    "# packages = []\n",
    "# import glob\n",
    "# for p in sorted(glob.glob(str(Path.cwd().parents[0] / Path('recipes-tag/*')))):\n",
    "#     p = os.path.basename(p)\n",
    "#     print(p)\n",
    "#     packages.append(p)\n",
    "# print(len(packages))"
   ]
  },
  {
   "cell_type": "code",
   "execution_count": 9,
   "metadata": {},
   "outputs": [],
   "source": [
    "statuses = []\n",
    "for p in packages:\n",
    "    st = client.submit(run_container, pkg_name=p, pythons=('3.6', '3.7'),\n",
    "                       numpy_versions=('1.14',),\n",
    "                       key=f'{p}-{new_ts()}')\n",
    "    statuses.append(st)"
   ]
  },
  {
   "cell_type": "code",
   "execution_count": 11,
   "metadata": {},
   "outputs": [],
   "source": [
    "# for st in statuses:\n",
    "#     print(st.result())"
   ]
  },
  {
   "cell_type": "code",
   "execution_count": 19,
   "metadata": {},
   "outputs": [
    {
     "data": {
      "text/plain": [
       "[<Future: status: finished, type: str, key: analysis-20180912171008>,\n",
       " <Future: status: finished, type: str, key: collection-20180912171008>]"
      ]
     },
     "execution_count": 19,
     "metadata": {},
     "output_type": "execute_result"
    }
   ],
   "source": [
    "statuses"
   ]
  },
  {
   "cell_type": "code",
   "execution_count": 20,
   "metadata": {},
   "outputs": [
    {
     "name": "stdout",
     "output_type": "stream",
     "text": [
      "Logging summary to /root/auto-build-logs/09.12-21.10\n",
      "Slack authentication successful.\n",
      "{'allow_failures': True, 'numpy': ['1.14'], 'python': ['3.6', '3.7'], 'recipes_path': '/repo/recipes-tag/analysis', 'site': 'https://api.anaconda.org', 'token': 'blablabla', 'username': 'lightsource2-tag', 'upload': True}\n",
      "Authenticating as the licode user\n",
      "Authenticating to the NSLS-II team\n",
      "Disabling binstar upload. If you want to turn it back on, execute: `conda config --set binstar_upload true`\n",
      "recipes_path = /repo/recipes-tag/analysis\n",
      "\n",
      "================================================================================\n",
      "analysis\n",
      "================================================================================\n",
      "\n",
      "True     | 3.6   | 1.14  | linux-64/analysis-2018C3.1-0.tar.bz2\n",
      "dependency_graph=<generator object resolve_dependencies at 0x7fe6abe67fc0>\n",
      "Build Order.\n",
      "linux-64/analysis-2018C3.1-0.tar.bz2\n",
      "Building: linux-64/analysis-2018C3.1-0.tar.bz2\n",
      "Build cmd: conda build /repo/recipes-tag/analysis --python 3.6 --numpy 1.14\n",
      "Adding in variants from internal_defaults\n",
      "Adding in variants from config.variant\n",
      "Attempting to finalize metadata for analysis\n",
      "BUILD START: ['analysis-2018C3.1-0.tar.bz2']\n",
      "Solving environment: ...working... done\n",
      "source tree in: /conda/tmp_envs/55fc582f7dd397d3a5f0/conda-bld/analysis_1536786634410/work\n",
      "Packaging analysis\n",
      "Packaging analysis-2018C3.1-0\n",
      "number of files: 0\n",
      "Fixing permissions\n",
      "updating: analysis-2018C3.1-0.tar.bz2\n",
      "TEST START: /conda/tmp_envs/55fc582f7dd397d3a5f0/conda-bld/linux-64/analysis-2018C3.1-0.tar.bz2\n",
      "Updating index at /conda/tmp_envs/55fc582f7dd397d3a5f0/conda-bld/linux-64 to make package installable with dependencies\n",
      "Updating index at /conda/tmp_envs/55fc582f7dd397d3a5f0/conda-bld/noarch to make package installable with dependencies\n",
      "Adding in variants from /tmp/tmpe7l95_u3/info/recipe/conda_build_config.yaml\n",
      "Nothing to test for: /conda/tmp_envs/55fc582f7dd397d3a5f0/conda-bld/linux-64/analysis-2018C3.1-0.tar.bz2\n",
      "Renaming work directory,  /conda/tmp_envs/55fc582f7dd397d3a5f0/conda-bld/analysis_1536786634410/work  to  /conda/tmp_envs/55fc582f7dd397d3a5f0/conda-bld/analysis_1536786634410/work_moved_analysis-2018C3.1-0_linux-64_main_build_loop\n",
      "# Automatic uploading is disabled\n",
      "# If you want to upload package(s) to anaconda.org later, type:\n",
      "\n",
      "anaconda upload /conda/tmp_envs/55fc582f7dd397d3a5f0/conda-bld/linux-64/analysis-2018C3.1-0.tar.bz2\n",
      "\n",
      "# To have conda build upload to anaconda.org automatically, use\n",
      "# $ conda config --set anaconda_upload yes\n",
      "\n",
      "anaconda_upload is not set.  Not uploading wheels: []\n",
      "####################################################################################\n",
      "Resource usage summary:\n",
      "\n",
      "Total time: 0:01:00.8\n",
      "CPU usage: sys=0:00:00.0, user=0:00:00.0\n",
      "Maximum memory usage observed: 0B\n",
      "Total disk usage observed (not including envs): 0B\n",
      "\n",
      "\n",
      "####################################################################################\n",
      "Source and build intermediates have been left in /conda/tmp_envs/55fc582f7dd397d3a5f0/conda-bld.\n",
      "There are currently 1 accumulated.\n",
      "To remove them, you can run the ```conda build purge``` command\n",
      "UPLOAD START\n",
      "Upload command=['anaconda', '-t', 'SCRUBBED', 'upload', '-u', 'lightsource2-tag', '/conda/tmp_envs/55fc582f7dd397d3a5f0/conda-bld/linux-64/analysis-2018C3.1-0.tar.bz2']\n",
      "Sending the following message to slack\n",
      "Built and Uploaded linux-64/analysis-2018C3.1-0.tar.bz2 to lightsource2-tag on https://api.anaconda.org\n",
      "Build summary\n",
      "Expected 1 packages\n",
      "Got 1 packages.\n",
      "Breakdown is as follows\n",
      "section: uploaded                 . number build: 1\n",
      "section: no_token                 . number build: 0\n",
      "section: upload_failed            . number build: 0\n",
      "section: build_or_test_failed     . number build: 0\n",
      "section: alreadybuilt             . number build: 0\n",
      "Packages that were built and uploaded to the lightsource2-tag user on https://api.anaconda.org\n",
      "['linux-64/analysis-2018C3.1-0.tar.bz2']\n",
      "\n"
     ]
    }
   ],
   "source": [
    "print(statuses[0].result())"
   ]
  },
  {
   "cell_type": "code",
   "execution_count": 21,
   "metadata": {},
   "outputs": [
    {
     "name": "stdout",
     "output_type": "stream",
     "text": [
      "Logging summary to /root/auto-build-logs/09.12-21.10\n",
      "Slack authentication successful.\n",
      "Authenticating as the licode user\n",
      "Authenticating to the NSLS-II team\n",
      "{'allow_failures': True, 'numpy': ['1.14'], 'python': ['3.6', '3.7'], 'recipes_path': '/repo/recipes-tag/collection', 'site': 'https://api.anaconda.org', 'token': 'blablabla', 'username': 'lightsource2-tag', 'upload': True}\n",
      "Disabling binstar upload. If you want to turn it back on, execute: `conda config --set binstar_upload true`\n",
      "recipes_path = /repo/recipes-tag/collection\n",
      "\n",
      "================================================================================\n",
      "collection\n",
      "================================================================================\n",
      "\n",
      "True     | 3.6   | 1.14  | linux-64/collection-2018C3.1-0.tar.bz2\n",
      "dependency_graph=<generator object resolve_dependencies at 0x7f49da0d2fc0>\n",
      "Build Order.\n",
      "linux-64/collection-2018C3.1-0.tar.bz2\n",
      "Building: linux-64/collection-2018C3.1-0.tar.bz2\n",
      "Build cmd: conda build /repo/recipes-tag/collection --python 3.6 --numpy 1.14\n",
      "Adding in variants from internal_defaults\n",
      "Adding in variants from config.variant\n",
      "Attempting to finalize metadata for collection\n",
      "BUILD START: ['collection-2018C3.1-0.tar.bz2']\n",
      "Solving environment: ...working... failed\n",
      "Missing dependency analysis, but found recipe directory, so building analysis first\n",
      "Attempting to finalize metadata for analysis\n",
      "BUILD START: ['analysis-2018C3.1-0.tar.bz2']\n",
      "Solving environment: ...working... done\n",
      "source tree in: /conda/tmp_envs/55fc582f7dd397d3a5f0/conda-bld/analysis_1536786638041/work\n",
      "Packaging analysis\n",
      "Packaging analysis-2018C3.1-0\n",
      "number of files: 0\n",
      "Fixing permissions\n",
      "updating: analysis-2018C3.1-0.tar.bz2\n",
      "TEST START: /conda/tmp_envs/55fc582f7dd397d3a5f0/conda-bld/linux-64/analysis-2018C3.1-0.tar.bz2\n",
      "Updating index at /conda/tmp_envs/55fc582f7dd397d3a5f0/conda-bld/linux-64 to make package installable with dependencies\n",
      "Updating index at /conda/tmp_envs/55fc582f7dd397d3a5f0/conda-bld/noarch to make package installable with dependencies\n",
      "Adding in variants from /tmp/tmp49awji3k/info/recipe/conda_build_config.yaml\n",
      "Nothing to test for: /conda/tmp_envs/55fc582f7dd397d3a5f0/conda-bld/linux-64/analysis-2018C3.1-0.tar.bz2\n",
      "Renaming work directory,  /conda/tmp_envs/55fc582f7dd397d3a5f0/conda-bld/analysis_1536786638041/work  to  /conda/tmp_envs/55fc582f7dd397d3a5f0/conda-bld/analysis_1536786638041/work_moved_analysis-2018C3.1-0_linux-64_main_build_loop\n",
      "BUILD START: ['collection-2018C3.1-0.tar.bz2']\n",
      "Solving environment: ...working... done\n",
      "source tree in: /conda/tmp_envs/55fc582f7dd397d3a5f0/conda-bld/collection_1536786698043/work\n",
      "Packaging collection\n",
      "number of files: 0\n",
      "Fixing permissions\n",
      "updating: collection-2018C3.1-0.tar.bz2\n",
      "TEST START: /conda/tmp_envs/55fc582f7dd397d3a5f0/conda-bld/linux-64/collection-2018C3.1-0.tar.bz2\n",
      "Adding in variants from /tmp/tmpj_z8_0ax/info/recipe/conda_build_config.yaml\n",
      "Nothing to test for: /conda/tmp_envs/55fc582f7dd397d3a5f0/conda-bld/linux-64/collection-2018C3.1-0.tar.bz2\n",
      "Renaming work directory,  /conda/tmp_envs/55fc582f7dd397d3a5f0/conda-bld/collection_1536786698043/work  to  /conda/tmp_envs/55fc582f7dd397d3a5f0/conda-bld/collection_1536786698043/work_moved_collection-2018C3.1-0_linux-64_main_build_loop\n",
      "# Automatic uploading is disabled\n",
      "# If you want to upload package(s) to anaconda.org later, type:\n",
      "\n",
      "anaconda upload /conda/tmp_envs/55fc582f7dd397d3a5f0/conda-bld/linux-64/analysis-2018C3.1-0.tar.bz2\n",
      "anaconda upload /conda/tmp_envs/55fc582f7dd397d3a5f0/conda-bld/linux-64/collection-2018C3.1-0.tar.bz2\n",
      "\n",
      "# To have conda build upload to anaconda.org automatically, use\n",
      "# $ conda config --set anaconda_upload yes\n",
      "\n",
      "anaconda_upload is not set.  Not uploading wheels: []\n",
      "####################################################################################\n",
      "Resource usage summary:\n",
      "\n",
      "Total time: 0:02:17.3\n",
      "CPU usage: sys=0:00:00.0, user=0:00:00.0\n",
      "Maximum memory usage observed: 0B\n",
      "Total disk usage observed (not including envs): 0B\n",
      "\n",
      "\n",
      "####################################################################################\n",
      "Source and build intermediates have been left in /conda/tmp_envs/55fc582f7dd397d3a5f0/conda-bld.\n",
      "There are currently 3 accumulated.\n",
      "To remove them, you can run the ```conda build purge``` command\n",
      "UPLOAD START\n",
      "Upload command=['anaconda', '-t', 'SCRUBBED', 'upload', '-u', 'lightsource2-tag', '/conda/tmp_envs/55fc582f7dd397d3a5f0/conda-bld/linux-64/collection-2018C3.1-0.tar.bz2']\n",
      "Sending the following message to slack\n",
      "Built and Uploaded linux-64/collection-2018C3.1-0.tar.bz2 to lightsource2-tag on https://api.anaconda.org\n",
      "Build summary\n",
      "Expected 1 packages\n",
      "Got 1 packages.\n",
      "Breakdown is as follows\n",
      "section: uploaded                 . number build: 1\n",
      "section: no_token                 . number build: 0\n",
      "section: upload_failed            . number build: 0\n",
      "section: build_or_test_failed     . number build: 0\n",
      "section: alreadybuilt             . number build: 0\n",
      "Packages that were built and uploaded to the lightsource2-tag user on https://api.anaconda.org\n",
      "['linux-64/collection-2018C3.1-0.tar.bz2']\n",
      "\n"
     ]
    },
    {
     "name": "stderr",
     "output_type": "stream",
     "text": [
      "distributed.comm.tcp - WARNING - Closing dangling stream in <TCP local=tcp://127.0.0.1:62194 remote=tcp://127.0.0.1:58551>\n"
     ]
    }
   ],
   "source": [
    "print(statuses[1].result())"
   ]
  },
  {
   "cell_type": "code",
   "execution_count": null,
   "metadata": {},
   "outputs": [],
   "source": []
  }
 ],
 "metadata": {
  "kernelspec": {
   "display_name": "Python 3",
   "language": "python",
   "name": "python3"
  },
  "language_info": {
   "codemirror_mode": {
    "name": "ipython",
    "version": 3
   },
   "file_extension": ".py",
   "mimetype": "text/x-python",
   "name": "python",
   "nbconvert_exporter": "python",
   "pygments_lexer": "ipython3",
   "version": "3.6.5"
  }
 },
 "nbformat": 4,
 "nbformat_minor": 2
}
